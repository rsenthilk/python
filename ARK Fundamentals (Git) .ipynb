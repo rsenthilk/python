{
 "cells": [
  {
   "cell_type": "code",
   "execution_count": null,
   "metadata": {},
   "outputs": [],
   "source": [
    "from glob import glob\n",
    "import pandas as pdlib\n",
    "import pandas as pd\n",
    "import yfinance as yf\n",
    "import numpy as np\n",
    "import matplotlib.pyplot as plt\n",
    "import glob\n",
    "from time import time, ctime\n",
    "from datetime import datetime"
   ]
  },
  {
   "cell_type": "code",
   "execution_count": null,
   "metadata": {},
   "outputs": [],
   "source": [
    "#Global Constants\n",
    "\n",
    "dbloc ='<SQLite DB Loc>'\n",
    "\n",
    "dateTimeObj = datetime.now()\n",
    "dateObj = dateTimeObj.date()\n",
    "curr_date_str = str (dateObj.year)+\"_\" + str(dateObj.month) +\"_\" + str(dateObj.day)\n",
    "print(curr_date_str)\n",
    "\n",
    "#Finviz Ticker Master File \n",
    "finviz_ticker_master_file='<finviz ticker file>'\n",
    "\n",
    "#ARK Fund File locations\n",
    "arkk = 'https://ark-funds.com/wp-content/fundsiteliterature/csv/ARK_INNOVATION_ETF_ARKK_HOLDINGS.csv'\n",
    "arkq = 'https://ark-funds.com/wp-content/fundsiteliterature/csv/ARK_AUTONOMOUS_TECHNOLOGY_&_ROBOTICS_ETF_ARKQ_HOLDINGS.csv'\n",
    "arkw = 'https://ark-funds.com/wp-content/fundsiteliterature/csv/ARK_NEXT_GENERATION_INTERNET_ETF_ARKW_HOLDINGS.csv'\n",
    "arkg = 'https://ark-funds.com/wp-content/fundsiteliterature/csv/ARK_GENOMIC_REVOLUTION_MULTISECTOR_ETF_ARKG_HOLDINGS.csv'\n",
    "arkf = 'https://ark-funds.com/wp-content/fundsiteliterature/csv/ARK_FINTECH_INNOVATION_ETF_ARKF_HOLDINGS.csv'\n",
    "arkx = 'https://ark-funds.com/wp-content/fundsiteliterature/csv/ARK_SPACE_EXPLORATION_&_INNOVATION_ETF_ARKX_HOLDINGS.csv'\n",
    "prnt = 'https://ark-funds.com/wp-content/fundsiteliterature/csv/THE_3D_PRINTING_ETF_PRNT_HOLDINGS.csv'\n",
    "izrl = 'https://ark-funds.com/wp-content/fundsiteliterature/csv/ARK_ISRAEL_INNOVATIVE_TECHNOLOGY_ETF_IZRL_HOLDINGS.csv'\n",
    "\n",
    "#ARK CSV Folder\n",
    "ark_csv_base_folder='<csv download folder>'\n",
    "finviz_csv_base_folder='<finviz csvs>'\n",
    "finviz_all_ticker_file='<finviz all tickers>'"
   ]
  },
  {
   "cell_type": "code",
   "execution_count": null,
   "metadata": {},
   "outputs": [],
   "source": [
    "# Common Functions\n",
    "def get_pricing_history(ticker_array) :\n",
    "    try :\n",
    "        df_ark_funds_pricing=pdlib.DataFrame()\n",
    "        for symbol in ticker_array : \n",
    "            stock = yf.Ticker(symbol)\n",
    "            curr_df = stock.history(period=\"max\")\n",
    "            curr_df['ticker'] = symbol\n",
    "            df_ark_funds_pricing = df_ark_funds_pricing.append(curr_df)    \n",
    "        return df_ark_funds_pricing\n",
    "    except :\n",
    "        print('Error  ' + symbol)\n",
    "\n",
    "def get_pricing_chart(ticker_array) :\n",
    "    try:\n",
    "        df_fund_pricing=get_pricing_history(ticker_array)\n",
    "        for ticker in ticker_array :\n",
    "            df_fund_pricing.loc[df_fund_pricing['ticker'] == ticker]['Close'].plot(label=ticker,figsize=(16,8),title='Closing Price')\n",
    "        plt.legend()\n",
    "    except :\n",
    "        print('Error  ' + symbol)\n",
    "        \n",
    "def load_all_ark_csvs(path) :\n",
    "    dfs = []\n",
    "    for filename in glob.glob(path):\n",
    "        print('loading..'+ filename)\n",
    "        dfs.append(pd.read_csv(filename))\n",
    "    big_frame = pdlib.concat(dfs, ignore_index=True)\n",
    "    return big_frame.dropna()\n",
    "    \n",
    "path = '<ark_csv_base_folder>/sources/ark/ark-csvs/*'\n",
    "ark_data=(load_all_ark_csvs(path))\n",
    "print(ark_data)\n",
    "        \n",
    "#ticker_array = {\"MSFT\",\"IBM\",\"TSLA\"}        \n",
    "#get_pricing_chart(ticker_array)"
   ]
  },
  {
   "cell_type": "code",
   "execution_count": null,
   "metadata": {},
   "outputs": [],
   "source": [
    "#Question 1 - How ARK fund is distributed by market value\n",
    "pdlib.options.display.float_format = '{:,.2f}'.format\n",
    "ark_data.groupby(['fund']).sum()"
   ]
  },
  {
   "cell_type": "code",
   "execution_count": null,
   "metadata": {},
   "outputs": [],
   "source": [
    "#Question 2 - How many distinct stocks are there are across the ARK portfolio\n",
    "ark_ticker_list=ark_data.ticker.unique()\n",
    "print('Total Distinct Instruments [Stocks, ETFs..] '+ str(len(ark_ticker_list)))"
   ]
  },
  {
   "cell_type": "code",
   "execution_count": null,
   "metadata": {},
   "outputs": [],
   "source": [
    "#Question 3 - How many are listed in US market vs. International\n",
    "df_all_tickers=pd.read_csv(finviz_ticker_master_file)\n",
    "df_all_tickers.head()\n",
    "stocks_with_info_list =[]\n",
    "stocks_without_info_list =[]\n",
    "\n",
    "for symbol in ark_ticker_list :\n",
    "    symbol_count=df_all_tickers['Ticker'].str.contains(symbol).sum()\n",
    "    if symbol_count>0:\n",
    "        stocks_with_info_list.append(symbol)\n",
    "    else :\n",
    "        stocks_without_info_list.append(symbol) \n",
    "        \n",
    "print('Listed in US Market  ' + str(len(stocks_with_info_list)))\n",
    "print('Not Listed in US Market ' + str(len(stocks_without_info_list)))\n"
   ]
  },
  {
   "cell_type": "code",
   "execution_count": null,
   "metadata": {},
   "outputs": [],
   "source": [
    "#Question 4 - How ARK funds compared to one another \n",
    "ark_funds_array={'ARKK','ARKQ','ARKW','ARKG','ARKF','ARKX','PRNT','IZRL'}\n",
    "df_ark_funds=df_all_tickers.loc[df_all_tickers['Ticker'].isin(ark_funds_array)]\n",
    "\n",
    "Funds = df_ark_funds['Ticker']\n",
    "Price =  df_ark_funds['Price']\n",
    "\n",
    "xAxis = [i + 0.5 for i, _ in enumerate(Funds)]\n",
    "  \n",
    "plt.bar(xAxis, Price, color='teal')\n",
    "plt.title('Funds Vs Price', fontsize=14)\n",
    "plt.xlabel('Funds', fontsize=14)\n",
    "plt.ylabel('Price', fontsize=14)\n",
    "plt.xticks([i + 0.5 for i, _ in enumerate(Funds)], Funds)\n",
    "plt.show()"
   ]
  },
  {
   "cell_type": "code",
   "execution_count": null,
   "metadata": {},
   "outputs": [],
   "source": [
    "#Question 5 - How ARK Funds pricing performance look over the years\n",
    "get_pricing_chart(ark_funds_array)\n"
   ]
  },
  {
   "cell_type": "code",
   "execution_count": null,
   "metadata": {},
   "outputs": [],
   "source": [
    "#Question 6 - How ARK Funds Underlying instruments are performing\n",
    "\n",
    "def p2f(x):\n",
    "    try :\n",
    "        x = float(x.strip('%'))\n",
    "        return(x)\n",
    "    except :\n",
    "        return 0\n",
    "all_tickers_csv_file=finviz_csv_base_folder+finviz_all_ticker_file\n",
    "df_ark_all_tickers = pdlib.read_csv(all_tickers_csv_file,converters={'20-Day Simple Moving Average':p2f,'50-Day Simple Moving Average':p2f,'Profit Margin':p2f })\n",
    "df_ark_all_tickers = df_ark_all_tickers[df_ark_all_tickers['Ticker'].isin(stocks_with_info_list)]\n",
    "\n",
    "df_temp = df_ark_all_tickers.loc[ \n",
    "    #(df_ark_all_tickers['Sector'] =='Technology') &\n",
    "    (df_ark_all_tickers['EPS (ttm)'] > 0) &\n",
    "    (df_ark_all_tickers['Current Ratio'] > 1.5) &  \n",
    "    (df_ark_all_tickers['20-Day Simple Moving Average'] > 0 ) &\n",
    "    (df_ark_all_tickers['Relative Strength Index (14)'] > 60 ) \n",
    "    ]"
   ]
  },
  {
   "cell_type": "code",
   "execution_count": null,
   "metadata": {},
   "outputs": [],
   "source": [
    "df_temp.shape"
   ]
  },
  {
   "cell_type": "code",
   "execution_count": null,
   "metadata": {},
   "outputs": [],
   "source": [
    "#Question 6.1 - Top 10 Instruments by price\n",
    "pd.set_option(\"display.max.columns\", None)\n",
    "print('Top 10 Instruments by Price: ')\n",
    "(df_ark_all_tickers[['Ticker','Sector','Industry','Company','Market Cap','Price','P/E','PEG','P/S','Profit Margin']]).sort_values(by=['Price'], ascending=False).head(10)\n",
    "#print(df_calc)\n",
    "#ticker_array=df_calc['Ticker']\n",
    "#get_pricing_chart(ticker_array)"
   ]
  },
  {
   "cell_type": "code",
   "execution_count": null,
   "metadata": {},
   "outputs": [],
   "source": [
    "#Question 6.2 - Bottom 10 Instruments by price\n",
    "print('Bottom 10 Instruments : ')\n",
    "#df_calc = (df_ark_all_tickers[['Ticker','Sector','Industry','Company','Market Cap','Price','P/E','PEG','P/S','Profit Margin']]).sort_values(by=['Price'], ascending=False).tail(10)\n",
    "(df_ark_all_tickers[['Ticker','Sector','Industry','Company','Market Cap','Price','P/E','PEG','P/S','Profit Margin']]).sort_values(by=['Price'], ascending=False).tail(10)\n",
    "#print(df_calc)\n",
    "#ticker_array=df_calc['Ticker']\n",
    "#get_pricing_chart(ticker_array)"
   ]
  },
  {
   "cell_type": "code",
   "execution_count": null,
   "metadata": {},
   "outputs": [],
   "source": [
    "#Question 7.1 - What are the Top 10 most active Instruments \n",
    "print('Most Active 10 Instruments : ')\n",
    "#df_calc=(df_ark_all_tickers[['Ticker','Sector','Industry','Company','Market Cap','Price','P/E','PEG','P/S','Volume']]).sort_values(by=['Volume'], ascending=False).head(10)\n",
    "(df_ark_all_tickers[['Ticker','Sector','Industry','Company','Market Cap','Price','P/E','PEG','P/S','Volume']]).sort_values(by=['Volume'], ascending=False).tail(10)\n",
    "#print(df_calc)\n",
    "#ticker_array=df_calc['Ticker']\n",
    "#get_pricing_chart(ticker_array)"
   ]
  },
  {
   "cell_type": "code",
   "execution_count": null,
   "metadata": {},
   "outputs": [],
   "source": [
    "#Question 7.2 - What are the  10 least active Instruments \n",
    "print('Least Active 10 Instruments : ')\n",
    "df_calc=(df_ark_all_tickers[['Ticker','Sector','Industry','Company','Market Cap','Price','P/E','PEG','P/S','Volume']]).sort_values(by=['Volume'], ascending=False).tail(10)\n",
    "print(df_calc)\n",
    "ticker_array=df_calc['Ticker']\n",
    "get_pricing_chart(ticker_array)"
   ]
  },
  {
   "cell_type": "code",
   "execution_count": null,
   "metadata": {},
   "outputs": [],
   "source": [
    "#Question 8.1 - What are the 10 most profitable Instruments \n",
    "print('Most Profitable 10 Instruments : ')\n",
    "df_calc=(df_ark_all_tickers[['Ticker','Sector','Industry','Company','Market Cap','Price','P/E','PEG','P/S','Profit Margin']]).sort_values(by=['Profit Margin'], ascending=False).head(10)\n",
    "print(df_calc)\n",
    "ticker_array=df_calc['Ticker']\n",
    "get_pricing_chart(ticker_array)"
   ]
  },
  {
   "cell_type": "code",
   "execution_count": null,
   "metadata": {},
   "outputs": [],
   "source": [
    "#Question 8.2 - What are the 10 most profitable Instruments \n",
    "print('Least Profitable 10 Instruments : ')\n",
    "df_calc=(df_ark_all_tickers[['Ticker','Sector','Industry','Company','Market Cap','Price','P/E','PEG','P/S','Profit Margin']]).sort_values(by=['Profit Margin'], ascending=False).tail(10)\n",
    "print(df_calc)\n",
    "ticker_array=df_calc['Ticker']\n",
    "get_pricing_chart(ticker_array)"
   ]
  },
  {
   "cell_type": "code",
   "execution_count": null,
   "metadata": {},
   "outputs": [],
   "source": [
    "#Question 9 - How does the sector-wise investments looks like in Healthcare\n",
    "\n",
    "df_ark_all_tickers = df_ark_all_tickers.loc[ (df_ark_all_tickers['Sector'] =='Healthcare')]\n",
    "    \n",
    "#print('Top 10 Instruments in Healthcare by Price : ')\n",
    "(df_ark_all_tickers[['Ticker','Sector','Industry','Company','Market Cap','Price','P/E','PEG','P/S','Profit Margin']]).sort_values(by=['Price'], ascending=False).tail(10)\n",
    "#print(df_calc)\n",
    "#ticker_array=df_calc['Ticker']\n",
    "#get_pricing_chart(ticker_array)"
   ]
  },
  {
   "cell_type": "code",
   "execution_count": null,
   "metadata": {},
   "outputs": [],
   "source": [
    "#Question 9.1\n",
    "print('Bottom 10 Instruments in Healthcare by Price: ')\n",
    "df_calc=(df_ark_all_tickers[['Ticker','Sector','Industry','Company','Market Cap','Price','P/E','PEG','P/S','Profit Margin']]).sort_values(by=['Price'], ascending=False).tail(10)\n",
    "print(df_calc)\n",
    "ticker_array=df_calc['Ticker']\n",
    "get_pricing_chart(ticker_array)"
   ]
  },
  {
   "cell_type": "code",
   "execution_count": null,
   "metadata": {},
   "outputs": [],
   "source": [
    "#Question 9.2\n",
    "print('Most Active 10 Instruments in Healthcare : ')\n",
    "df_calc=(df_ark_all_tickers[['Ticker','Sector','Industry','Company','Market Cap','Price','P/E','PEG','P/S','Volume']]).sort_values(by=['Volume'], ascending=False).head(10)\n",
    "print(df_calc)\n",
    "ticker_array=df_calc['Ticker']\n",
    "get_pricing_chart(ticker_array)"
   ]
  },
  {
   "cell_type": "code",
   "execution_count": null,
   "metadata": {},
   "outputs": [],
   "source": [
    "#Question 9.3\n",
    "print('Least Active 10 Instruments in Healthcare : ')\n",
    "(df_ark_all_tickers[['Ticker','Sector','Industry','Company','Market Cap','Price','P/E','PEG','P/S','Volume']]).sort_values(by=['Volume'], ascending=False).tail(10)\n",
    "#print(df_calc)\n",
    "#ticker_array=df_calc['Ticker']\n",
    "#get_pricing_chart(ticker_array)"
   ]
  },
  {
   "cell_type": "code",
   "execution_count": null,
   "metadata": {},
   "outputs": [],
   "source": [
    "#Question 9.4\n",
    "print('Most Profitable 10 Instruments in Healthcare: ')\n",
    "df_calc=(df_ark_all_tickers[['Ticker','Sector','Industry','Company','Market Cap','Price','P/E','PEG','P/S','Profit Margin']]).sort_values(by=['Profit Margin'], ascending=False).head(10)\n",
    "print(df_calc)\n",
    "ticker_array=df_calc['Ticker']\n",
    "get_pricing_chart(ticker_array)"
   ]
  },
  {
   "cell_type": "code",
   "execution_count": null,
   "metadata": {},
   "outputs": [],
   "source": [
    "#Question 9.5\n",
    "print('Least Profitable 10 Instruments in Healthcare: ')\n",
    "df_calc=(df_ark_all_tickers[['Ticker','Sector','Industry','Company','Market Cap','Price','P/E','PEG','P/S','Profit Margin']]).sort_values(by=['Profit Margin'], ascending=False).tail(10)\n",
    "print(df_calc)\n",
    "ticker_array=df_calc['Ticker']\n",
    "get_pricing_chart(ticker_array)\n"
   ]
  },
  {
   "cell_type": "code",
   "execution_count": null,
   "metadata": {},
   "outputs": [],
   "source": [
    "df_ark_all_tickers.corr(method ='pearson')"
   ]
  },
  {
   "cell_type": "code",
   "execution_count": null,
   "metadata": {},
   "outputs": [],
   "source": [
    "df_ark_all_tickers.corr(method ='kendall')"
   ]
  },
  {
   "cell_type": "code",
   "execution_count": null,
   "metadata": {},
   "outputs": [],
   "source": []
  }
 ],
 "metadata": {
  "kernelspec": {
   "display_name": "Python 3",
   "language": "python",
   "name": "python3"
  },
  "language_info": {
   "codemirror_mode": {
    "name": "ipython",
    "version": 3
   },
   "file_extension": ".py",
   "mimetype": "text/x-python",
   "name": "python",
   "nbconvert_exporter": "python",
   "pygments_lexer": "ipython3",
   "version": "3.8.5"
  }
 },
 "nbformat": 4,
 "nbformat_minor": 4
}
